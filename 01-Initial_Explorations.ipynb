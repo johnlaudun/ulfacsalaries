{
 "cells": [
  {
   "cell_type": "markdown",
   "metadata": {},
   "source": [
    "This notebook explores the initial dataset as provided. Before the Excel spreadsheet was exported to CSV from within Excel itself, I dropped a couple of columns in which all the values were the same or the data provided seemed irrelevant. Those columns were:\n",
    "\n",
    "* `STATUS`: nothing but `A`s here.\n",
    "* `ACCOUNT`: The distinction between 610101 and 610102 wasn't clear.\n",
    "\n",
    "Because this file is not that big, I decided to keep the rest of the columns.\n",
    "\n",
    "I also changed `POSN_ORGN_TITLE` simply to `DEPARTMENT`. Where there were spaces in column headers, I replaced them with underscores.\n",
    "\n",
    "In the sections that follow, I will try to explain what I am doing as I go in case anyone is interested in the process. If you are not, please feel free to skim and skip."
   ]
  },
  {
   "cell_type": "markdown",
   "metadata": {},
   "source": [
    "The first thing to note is that this notebook sits inside a repository on GitHub. In this case, a repository is simply a collection of files that are all version controlled (using a system called Git). Once I had moved the modified Excel spreadsheet and its CSV export, I listed the contents of the directory so I can copy and paste the name of the CSV file exactly when I open it. (I'm lazy.)"
   ]
  },
  {
   "cell_type": "code",
   "execution_count": 1,
   "metadata": {},
   "outputs": [
    {
     "name": "stdout",
     "output_type": "stream",
     "text": [
      "01-Initial_Explorations.ipynb  ulfacsalaries.csv\r\n",
      "department_ranks.csv           ulfacsalaries.xlsx\r\n"
     ]
    }
   ],
   "source": [
    "%ls"
   ]
  },
  {
   "cell_type": "markdown",
   "metadata": {},
   "source": [
    "The main library that I will be using is called `pandas` which makes data exploration and analysis fairly easy. We have to load it in order to use it:"
   ]
  },
  {
   "cell_type": "code",
   "execution_count": 2,
   "metadata": {},
   "outputs": [],
   "source": [
    "import pandas as pd"
   ]
  },
  {
   "cell_type": "markdown",
   "metadata": {},
   "source": [
    "Now we have the functionality to read the CSV file and to tell us its shape -- how many rows by how many columns."
   ]
  },
  {
   "cell_type": "code",
   "execution_count": 3,
   "metadata": {},
   "outputs": [
    {
     "data": {
      "text/plain": [
       "(626, 16)"
      ]
     },
     "execution_count": 3,
     "metadata": {},
     "output_type": "execute_result"
    }
   ],
   "source": [
    "df = pd.read_csv('ulfacsalaries.csv', index_col=0)\n",
    "df.shape"
   ]
  },
  {
   "cell_type": "markdown",
   "metadata": {},
   "source": [
    "We can also glimpse the top ten rows to make sure Our column headers imported correctly and that things seem to be where we expect them to be. (You can never tell with data, can you?)"
   ]
  },
  {
   "cell_type": "code",
   "execution_count": 4,
   "metadata": {
    "scrolled": false
   },
   "outputs": [
    {
     "data": {
      "text/html": [
       "<div>\n",
       "<style scoped>\n",
       "    .dataframe tbody tr th:only-of-type {\n",
       "        vertical-align: middle;\n",
       "    }\n",
       "\n",
       "    .dataframe tbody tr th {\n",
       "        vertical-align: top;\n",
       "    }\n",
       "\n",
       "    .dataframe thead th {\n",
       "        text-align: right;\n",
       "    }\n",
       "</style>\n",
       "<table border=\"1\" class=\"dataframe\">\n",
       "  <thead>\n",
       "    <tr style=\"text-align: right;\">\n",
       "      <th></th>\n",
       "      <th>DEPARTMENT</th>\n",
       "      <th>PERCENTAGE</th>\n",
       "      <th>FOAPAL_SALARY</th>\n",
       "      <th>TOTAL_SALARY</th>\n",
       "      <th>OTHER_SALARY</th>\n",
       "      <th>TENURE</th>\n",
       "      <th>DEGREE</th>\n",
       "      <th>DEGREE_DESC</th>\n",
       "      <th>YEARS_HERE</th>\n",
       "      <th>YEARS_TOTAL</th>\n",
       "      <th>POSITION_FTE</th>\n",
       "      <th>JOB FTE</th>\n",
       "      <th>BUDGET_FTE</th>\n",
       "      <th>JOB_PCT</th>\n",
       "      <th>MONTHS_EMPL</th>\n",
       "      <th>POSN_ECLS</th>\n",
       "    </tr>\n",
       "    <tr>\n",
       "      <th>TITLE</th>\n",
       "      <th></th>\n",
       "      <th></th>\n",
       "      <th></th>\n",
       "      <th></th>\n",
       "      <th></th>\n",
       "      <th></th>\n",
       "      <th></th>\n",
       "      <th></th>\n",
       "      <th></th>\n",
       "      <th></th>\n",
       "      <th></th>\n",
       "      <th></th>\n",
       "      <th></th>\n",
       "      <th></th>\n",
       "      <th></th>\n",
       "      <th></th>\n",
       "    </tr>\n",
       "  </thead>\n",
       "  <tbody>\n",
       "    <tr>\n",
       "      <th>Assistant Professor</th>\n",
       "      <td>Accounting</td>\n",
       "      <td>100.0</td>\n",
       "      <td>139,000.00</td>\n",
       "      <td>139,000.00</td>\n",
       "      <td>0.00</td>\n",
       "      <td>NaN</td>\n",
       "      <td>NaN</td>\n",
       "      <td>NaN</td>\n",
       "      <td>0</td>\n",
       "      <td>0</td>\n",
       "      <td>1.0</td>\n",
       "      <td>1</td>\n",
       "      <td>1</td>\n",
       "      <td>0</td>\n",
       "      <td>9</td>\n",
       "      <td>F9</td>\n",
       "    </tr>\n",
       "    <tr>\n",
       "      <th>Assistant Professor</th>\n",
       "      <td>Accounting</td>\n",
       "      <td>100.0</td>\n",
       "      <td>139,000.00</td>\n",
       "      <td>139,000.00</td>\n",
       "      <td>0.00</td>\n",
       "      <td>NaN</td>\n",
       "      <td>NaN</td>\n",
       "      <td>NaN</td>\n",
       "      <td>0</td>\n",
       "      <td>0</td>\n",
       "      <td>1.0</td>\n",
       "      <td>1</td>\n",
       "      <td>1</td>\n",
       "      <td>0</td>\n",
       "      <td>9</td>\n",
       "      <td>F9</td>\n",
       "    </tr>\n",
       "    <tr>\n",
       "      <th>Assistant Professor</th>\n",
       "      <td>Accounting</td>\n",
       "      <td>100.0</td>\n",
       "      <td>138,000.00</td>\n",
       "      <td>138,000.00</td>\n",
       "      <td>0.00</td>\n",
       "      <td>O</td>\n",
       "      <td>PHD</td>\n",
       "      <td>Doctor of Philosophy</td>\n",
       "      <td>0</td>\n",
       "      <td>0</td>\n",
       "      <td>1.0</td>\n",
       "      <td>1</td>\n",
       "      <td>1</td>\n",
       "      <td>100</td>\n",
       "      <td>9</td>\n",
       "      <td>F9</td>\n",
       "    </tr>\n",
       "    <tr>\n",
       "      <th>Associate Professor</th>\n",
       "      <td>Accounting</td>\n",
       "      <td>100.0</td>\n",
       "      <td>131,171.00</td>\n",
       "      <td>134,291.00</td>\n",
       "      <td>3,120.00</td>\n",
       "      <td>T</td>\n",
       "      <td>PHD</td>\n",
       "      <td>Doctor of Philosophy</td>\n",
       "      <td>18</td>\n",
       "      <td>22</td>\n",
       "      <td>1.0</td>\n",
       "      <td>1</td>\n",
       "      <td>1</td>\n",
       "      <td>100</td>\n",
       "      <td>9</td>\n",
       "      <td>F9</td>\n",
       "    </tr>\n",
       "    <tr>\n",
       "      <th>Associate Professor</th>\n",
       "      <td>Accounting</td>\n",
       "      <td>100.0</td>\n",
       "      <td>131,484.00</td>\n",
       "      <td>137,724.00</td>\n",
       "      <td>6,240.00</td>\n",
       "      <td>T</td>\n",
       "      <td>PHD</td>\n",
       "      <td>Doctor of Philosophy</td>\n",
       "      <td>21</td>\n",
       "      <td>22</td>\n",
       "      <td>1.0</td>\n",
       "      <td>1</td>\n",
       "      <td>1</td>\n",
       "      <td>100</td>\n",
       "      <td>9</td>\n",
       "      <td>F9</td>\n",
       "    </tr>\n",
       "    <tr>\n",
       "      <th>Associate Professor</th>\n",
       "      <td>Accounting</td>\n",
       "      <td>100.0</td>\n",
       "      <td>130,108.00</td>\n",
       "      <td>139,468.00</td>\n",
       "      <td>9,360.00</td>\n",
       "      <td>O</td>\n",
       "      <td>PHD</td>\n",
       "      <td>Doctor of Philosophy</td>\n",
       "      <td>5</td>\n",
       "      <td>5</td>\n",
       "      <td>1.0</td>\n",
       "      <td>1</td>\n",
       "      <td>1</td>\n",
       "      <td>100</td>\n",
       "      <td>9</td>\n",
       "      <td>F9</td>\n",
       "    </tr>\n",
       "    <tr>\n",
       "      <th>Master Instructor</th>\n",
       "      <td>Accounting</td>\n",
       "      <td>100.0</td>\n",
       "      <td>67,396.00</td>\n",
       "      <td>67,396.00</td>\n",
       "      <td>0.00</td>\n",
       "      <td>N</td>\n",
       "      <td>DBA</td>\n",
       "      <td>Doctor of Business Admin_</td>\n",
       "      <td>12</td>\n",
       "      <td>12</td>\n",
       "      <td>1.0</td>\n",
       "      <td>1</td>\n",
       "      <td>1</td>\n",
       "      <td>100</td>\n",
       "      <td>9</td>\n",
       "      <td>F9</td>\n",
       "    </tr>\n",
       "    <tr>\n",
       "      <th>Master Instructor</th>\n",
       "      <td>Accounting</td>\n",
       "      <td>100.0</td>\n",
       "      <td>70,161.00</td>\n",
       "      <td>76,401.00</td>\n",
       "      <td>6,240.00</td>\n",
       "      <td>N</td>\n",
       "      <td>MBA</td>\n",
       "      <td>Master of Business Admin.</td>\n",
       "      <td>20</td>\n",
       "      <td>21</td>\n",
       "      <td>1.0</td>\n",
       "      <td>1</td>\n",
       "      <td>1</td>\n",
       "      <td>100</td>\n",
       "      <td>9</td>\n",
       "      <td>F9</td>\n",
       "    </tr>\n",
       "    <tr>\n",
       "      <th>Professor</th>\n",
       "      <td>Accounting</td>\n",
       "      <td>100.0</td>\n",
       "      <td>143,844.00</td>\n",
       "      <td>150,084.00</td>\n",
       "      <td>6,240.00</td>\n",
       "      <td>T</td>\n",
       "      <td>PHD</td>\n",
       "      <td>Doctor of Philosophy</td>\n",
       "      <td>28</td>\n",
       "      <td>28</td>\n",
       "      <td>1.0</td>\n",
       "      <td>1</td>\n",
       "      <td>1</td>\n",
       "      <td>100</td>\n",
       "      <td>9</td>\n",
       "      <td>F9</td>\n",
       "    </tr>\n",
       "    <tr>\n",
       "      <th>Professor And Head</th>\n",
       "      <td>Accounting</td>\n",
       "      <td>100.0</td>\n",
       "      <td>147,426.00</td>\n",
       "      <td>173,666.00</td>\n",
       "      <td>26,240.00</td>\n",
       "      <td>T</td>\n",
       "      <td>PHD</td>\n",
       "      <td>Doctor of Philosophy</td>\n",
       "      <td>39</td>\n",
       "      <td>37</td>\n",
       "      <td>1.0</td>\n",
       "      <td>1</td>\n",
       "      <td>1</td>\n",
       "      <td>100</td>\n",
       "      <td>9</td>\n",
       "      <td>F9</td>\n",
       "    </tr>\n",
       "  </tbody>\n",
       "</table>\n",
       "</div>"
      ],
      "text/plain": [
       "                     DEPARTMENT  PERCENTAGE FOAPAL_SALARY TOTAL_SALARY  \\\n",
       "TITLE                                                                    \n",
       "Assistant Professor  Accounting       100.0    139,000.00   139,000.00   \n",
       "Assistant Professor  Accounting       100.0    139,000.00   139,000.00   \n",
       "Assistant Professor  Accounting       100.0    138,000.00   138,000.00   \n",
       "Associate Professor  Accounting       100.0    131,171.00   134,291.00   \n",
       "Associate Professor  Accounting       100.0    131,484.00   137,724.00   \n",
       "Associate Professor  Accounting       100.0    130,108.00   139,468.00   \n",
       "Master Instructor    Accounting       100.0     67,396.00    67,396.00   \n",
       "Master Instructor    Accounting       100.0     70,161.00    76,401.00   \n",
       "Professor            Accounting       100.0    143,844.00   150,084.00   \n",
       "Professor And Head   Accounting       100.0    147,426.00   173,666.00   \n",
       "\n",
       "                    OTHER_SALARY TENURE DEGREE                DEGREE_DESC  \\\n",
       "TITLE                                                                       \n",
       "Assistant Professor         0.00    NaN    NaN                        NaN   \n",
       "Assistant Professor         0.00    NaN    NaN                        NaN   \n",
       "Assistant Professor         0.00      O    PHD       Doctor of Philosophy   \n",
       "Associate Professor     3,120.00      T    PHD       Doctor of Philosophy   \n",
       "Associate Professor     6,240.00      T    PHD       Doctor of Philosophy   \n",
       "Associate Professor     9,360.00      O    PHD       Doctor of Philosophy   \n",
       "Master Instructor           0.00      N    DBA  Doctor of Business Admin_   \n",
       "Master Instructor       6,240.00      N    MBA  Master of Business Admin.   \n",
       "Professor               6,240.00      T    PHD       Doctor of Philosophy   \n",
       "Professor And Head     26,240.00      T    PHD       Doctor of Philosophy   \n",
       "\n",
       "                     YEARS_HERE  YEARS_TOTAL  POSITION_FTE  JOB FTE  \\\n",
       "TITLE                                                                 \n",
       "Assistant Professor           0            0           1.0        1   \n",
       "Assistant Professor           0            0           1.0        1   \n",
       "Assistant Professor           0            0           1.0        1   \n",
       "Associate Professor          18           22           1.0        1   \n",
       "Associate Professor          21           22           1.0        1   \n",
       "Associate Professor           5            5           1.0        1   \n",
       "Master Instructor            12           12           1.0        1   \n",
       "Master Instructor            20           21           1.0        1   \n",
       "Professor                    28           28           1.0        1   \n",
       "Professor And Head           39           37           1.0        1   \n",
       "\n",
       "                     BUDGET_FTE  JOB_PCT  MONTHS_EMPL POSN_ECLS  \n",
       "TITLE                                                            \n",
       "Assistant Professor           1        0            9        F9  \n",
       "Assistant Professor           1        0            9        F9  \n",
       "Assistant Professor           1      100            9        F9  \n",
       "Associate Professor           1      100            9        F9  \n",
       "Associate Professor           1      100            9        F9  \n",
       "Associate Professor           1      100            9        F9  \n",
       "Master Instructor             1      100            9        F9  \n",
       "Master Instructor             1      100            9        F9  \n",
       "Professor                     1      100            9        F9  \n",
       "Professor And Head            1      100            9        F9  "
      ]
     },
     "execution_count": 4,
     "metadata": {},
     "output_type": "execute_result"
    }
   ],
   "source": [
    "df.head(10)"
   ]
  },
  {
   "cell_type": "markdown",
   "metadata": {},
   "source": [
    "**pandas** did not like the commas in the numbers -- and, in fact, converted these numbers to strings as a result -- so the next bit of code simply removes the commas and makes sure the numbers are numbers. (If you re-run the cell above, you will see the commas are now gone.)"
   ]
  },
  {
   "cell_type": "code",
   "execution_count": 5,
   "metadata": {},
   "outputs": [],
   "source": [
    "columns = ['FOAPAL_SALARY','TOTAL_SALARY', 'OTHER_SALARY']\n",
    "\n",
    "for column in columns:\n",
    "    df[column] = df[column].apply(lambda x: float(x.split()[0].replace(',', '')))"
   ]
  },
  {
   "cell_type": "markdown",
   "metadata": {},
   "source": [
    "Certain kinds of statistical information is fairly easy to get:"
   ]
  },
  {
   "cell_type": "code",
   "execution_count": 6,
   "metadata": {},
   "outputs": [
    {
     "name": "stdout",
     "output_type": "stream",
     "text": [
      "The overall average for faculty salares is 76705.42.\n",
      "The median of the salaries is 69576.50.\n",
      "The standard deviation for faculty salaries is 29297.50.\n"
     ]
    }
   ],
   "source": [
    "print(f\"The overall average for faculty salares is {df.FOAPAL_SALARY.mean():.2f}.\")\n",
    "print(f\"The median of the salaries is {df.FOAPAL_SALARY.median():.2f}.\")\n",
    "print(f\"The standard deviation for faculty salaries is {df.FOAPAL_SALARY.std():.2f}.\")"
   ]
  },
  {
   "cell_type": "code",
   "execution_count": 7,
   "metadata": {},
   "outputs": [
    {
     "name": "stdout",
     "output_type": "stream",
     "text": [
      "                                FOAPAL_SALARY                    \n",
      "                                         mean       min       max\n",
      "TITLE                                                            \n",
      "Assisant Professor               50000.000000   50000.0   50000.0\n",
      "Assistant Professor              68591.461988   46301.0  139000.0\n",
      "Assistant Professor, A D Bands   52000.000000   52000.0   52000.0\n",
      "Associate Dean                   64428.000000   64428.0   64428.0\n",
      "Associate Professor              81897.906977   52527.0  131484.0\n",
      "Asst Professor & Assess Coor     64111.000000   64111.0   64111.0\n",
      "Instructor                       57189.990909   19162.0  112572.0\n",
      "Lecturer                         58054.000000   58054.0   58054.0\n",
      "Master Instructor                54527.911765   39179.0   75314.0\n",
      "Professor                       107682.062937   64923.0  212000.0\n",
      "Professor & Director            120000.000000  120000.0  120000.0\n",
      "Professor And Head              147426.000000  147426.0  147426.0\n",
      "Reading Instructor               46963.000000   46963.0   46963.0\n",
      "Senior Instructor                50879.354839   37763.0   70981.0\n"
     ]
    }
   ],
   "source": [
    "ranks = df.groupby('TITLE').agg({'FOAPAL_SALARY': ['mean', 'min', 'max']})\n",
    "print(ranks)"
   ]
  },
  {
   "cell_type": "code",
   "execution_count": 8,
   "metadata": {},
   "outputs": [
    {
     "name": "stdout",
     "output_type": "stream",
     "text": [
      "                                   FOAPAL_SALARY                    \n",
      "                                            mean       min       max\n",
      "DEPARTMENT                                                          \n",
      "Accounting                         113917.166667   64627.0  147426.0\n",
      "Allied Health                       80469.750000   62000.0  130162.0\n",
      "Baccalaureate Nursing               69132.200000   41600.0  102280.0\n",
      "Biology                             85988.218750   46000.0  148636.0\n",
      "Chemical Engineering               117300.900000   75000.0  200000.0\n",
      "Chemistry                           77700.166667   50239.0   95567.0\n",
      "Civil Engineering                  101208.100000   46560.0  136083.0\n",
      "Cntr Fr Adv Computer Study         128998.400000   92714.0  193190.0\n",
      "Communication                       59611.166667   45000.0   97042.0\n",
      "Communicative Disorders             99853.444444   69664.0  143300.0\n",
      "Computer Science                    85862.333333   74739.0   96794.0\n",
      "Counselor Education                 73900.200000   64984.0   89715.0\n",
      "Criminal Justice                    54030.600000   49259.0   61202.0\n",
      "Dean of Nursing&Allied Hlth Prof    58386.000000   55393.0   65738.0\n",
      "Economics & Finance                100832.700000   51068.0  210000.0\n",
      "Elect & Computer Engineering       103521.818182   75000.0  212000.0\n",
      "English                             56913.355556   36046.0  102080.0\n",
      "History & Geography                 61177.941176   39063.0   97067.0\n",
      "Industrial Technology               84316.000000   59854.0  110155.0\n",
      "Informatics                         86351.600000   58686.0  112927.0\n",
      "Kinesiology                         64015.058824   44000.0   96385.0\n",
      "Library                             54320.133333   45000.0   75527.0\n",
      "Management                         101299.909091   48073.0  153242.0\n",
      "Marketing & Hospitality            117642.857143   54128.0  162338.0\n",
      "Mathematics                         75583.684211   43000.0  125596.0\n",
      "Mechanical Engineering              98673.000000   46301.0  171000.0\n",
      "Modern Languages                    55957.133333   35909.0   83689.0\n",
      "Music                               65443.791667   48878.0  114074.0\n",
      "PI Carmouche Robert L               46963.000000   46963.0   46963.0\n",
      "PI Gopu Vijaya Krishna             152921.000000  152921.0  152921.0\n",
      "Performing Arts                     55451.571429   45495.0   64081.0\n",
      "Petroleum Engineering              103016.666667   78153.0  136573.0\n",
      "Physics                             81596.000000   50000.0  108736.0\n",
      "Political Science                   67078.857143   51000.0   78831.0\n",
      "Psychology                          56902.055556   41966.0   79076.0\n",
      "Sch of Computing & Informatics     128825.333333   95000.0  195476.0\n",
      "School of Architecture/Design       74896.222222   58054.0  117682.0\n",
      "School of Geoscience                78129.615385   47000.0  120000.0\n",
      "Sociology, Anthropology, and CAFS   66733.058824   41000.0  129233.0\n",
      "Tchr Ed Curriculum & Instruc        61229.566667   19162.0  104112.0\n",
      "Tchr Ed Found & Leadership          72760.666667   51716.0  102839.0\n",
      "UNIV 100                            99303.000000   99303.0   99303.0\n",
      "UNIV 200                            48274.333333   45139.0   52684.0\n",
      "Visual Arts                         58403.315789   50000.0   84990.0\n"
     ]
    }
   ],
   "source": [
    "departments = df.groupby('DEPARTMENT').agg({'FOAPAL_SALARY': ['mean', 'min', 'max']})\n",
    "print(departments)"
   ]
  },
  {
   "cell_type": "code",
   "execution_count": 9,
   "metadata": {},
   "outputs": [
    {
     "name": "stdout",
     "output_type": "stream",
     "text": [
      "                                 FOAPAL_SALARY                    \n",
      "                                          mean       min       max\n",
      "DEPARTMENT  TITLE                                                 \n",
      "Accounting  Assistant Professor  138666.666667  138000.0  139000.0\n",
      "            Associate Professor  130921.000000  130108.0  131484.0\n",
      "            Master Instructor     68778.500000   67396.0   70161.0\n",
      "            Professor            143844.000000  143844.0  143844.0\n",
      "            Professor And Head   147426.000000  147426.0  147426.0\n",
      "...                                        ...       ...       ...\n",
      "UNIV 200    Instructor            48274.333333   45139.0   52684.0\n",
      "Visual Arts Assistant Professor   52369.888889   50000.0   54376.0\n",
      "            Associate Professor   60079.600000   54586.0   66936.0\n",
      "            Instructor            50000.000000   50000.0   50000.0\n",
      "            Professor             71984.000000   66805.0   84990.0\n",
      "\n",
      "[176 rows x 3 columns]\n"
     ]
    }
   ],
   "source": [
    "department_ranks = df.groupby(['DEPARTMENT', 'TITLE']).agg({'FOAPAL_SALARY': ['mean', 'min', 'max']})\n",
    "print(department_ranks)"
   ]
  },
  {
   "cell_type": "code",
   "execution_count": 12,
   "metadata": {},
   "outputs": [],
   "source": [
    "department_ranks.to_csv('department_ranks.csv')"
   ]
  },
  {
   "cell_type": "code",
   "execution_count": 11,
   "metadata": {},
   "outputs": [],
   "source": [
    "# For later when I have pyxl loaded:\n",
    "# with pd.ExcelWriter('department_ranks.xlsx', mode='a') as writer:\n",
    "#     df.to_excel(writer, sheet_name='Salaries by Department and Rank')"
   ]
  }
 ],
 "metadata": {
  "kernelspec": {
   "display_name": "Python 3",
   "language": "python",
   "name": "python3"
  },
  "language_info": {
   "codemirror_mode": {
    "name": "ipython",
    "version": 3
   },
   "file_extension": ".py",
   "mimetype": "text/x-python",
   "name": "python",
   "nbconvert_exporter": "python",
   "pygments_lexer": "ipython3",
   "version": "3.8.2"
  }
 },
 "nbformat": 4,
 "nbformat_minor": 4
}
